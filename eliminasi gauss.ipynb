{
  "nbformat": 4,
  "nbformat_minor": 0,
  "metadata": {
    "colab": {
      "provenance": [],
      "include_colab_link": true
    },
    "kernelspec": {
      "name": "python3",
      "display_name": "Python 3"
    },
    "language_info": {
      "name": "python"
    }
  },
  "cells": [
    {
      "cell_type": "markdown",
      "metadata": {
        "id": "view-in-github",
        "colab_type": "text"
      },
      "source": [
        "<a href=\"https://colab.research.google.com/github/Kevin5AS/tugas1/blob/main/eliminasi%20gauss.ipynb\" target=\"_parent\"><img src=\"https://colab.research.google.com/assets/colab-badge.svg\" alt=\"Open In Colab\"/></a>"
      ]
    },
    {
      "cell_type": "code",
      "execution_count": 59,
      "metadata": {
        "colab": {
          "base_uri": "https://localhost:8080/"
        },
        "id": "C3aJpOzwRswY",
        "outputId": "ed21c450-86cb-4876-8095-6bc30a92f6de"
      },
      "outputs": [
        {
          "output_type": "stream",
          "name": "stdout",
          "text": [
            "[2, 3, -1, 5]\n",
            "[4, 4, -3, 3]\n",
            "[-2, 3, -1, 1]\n"
          ]
        }
      ],
      "source": [
        "SPL = ([[2,3,-1,5],\n",
        "        [4,4,-3,3],\n",
        "         [-2,3,-1,1]]) #ini matriksnya\n",
        "\n",
        "for row in SPL:\n",
        "  print (row) #menampilkan matriks awal"
      ]
    },
    {
      "cell_type": "code",
      "source": [
        "#eliminasi pertama\n",
        "for i in range(3):\n",
        "    SPL[1][i] = SPL[1][i] - (2*SPL[0][i]) #baris2=baris2-(baris1*2)\n",
        "\n",
        "for row in SPL: #hasil\n",
        "  print(row)"
      ],
      "metadata": {
        "colab": {
          "base_uri": "https://localhost:8080/"
        },
        "id": "js9lGSow2LIs",
        "outputId": "3276fb90-9000-497e-ee93-25452f5a8a72"
      },
      "execution_count": 60,
      "outputs": [
        {
          "output_type": "stream",
          "name": "stdout",
          "text": [
            "[2, 3, -1, 5]\n",
            "[0, -2, -1, 3]\n",
            "[-2, 3, -1, 1]\n"
          ]
        }
      ]
    },
    {
      "cell_type": "code",
      "source": [
        "#eliminasi kedua\n",
        "for i in range(4):\n",
        "    SPL[2][i] = SPL[2][i] - (-1*SPL[0][i]) #baris3=baris3-(baris1*-1)\n",
        "\n",
        "for row in SPL: #hasil\n",
        "  print(row)"
      ],
      "metadata": {
        "colab": {
          "base_uri": "https://localhost:8080/"
        },
        "id": "ciwrHKDW745H",
        "outputId": "ac23c7da-dff2-4eb7-a6bf-c1434d66d8d3"
      },
      "execution_count": 61,
      "outputs": [
        {
          "output_type": "stream",
          "name": "stdout",
          "text": [
            "[2, 3, -1, 5]\n",
            "[0, -2, -1, 3]\n",
            "[0, 6, -2, 6]\n"
          ]
        }
      ]
    },
    {
      "cell_type": "code",
      "source": [
        "#eliminasi terakhir\n",
        "for i in range(3):\n",
        "    SPL[2][i] = SPL[2][i] - (-3*SPL[1][i]) #baris3=baris3-(baris2*-3)\n",
        "\n",
        "for row in SPL: #hasil\n",
        "  print(row)"
      ],
      "metadata": {
        "colab": {
          "base_uri": "https://localhost:8080/"
        },
        "id": "mAInAe368reO",
        "outputId": "005dca46-c5ac-4275-8229-91b945e71ffa"
      },
      "execution_count": 62,
      "outputs": [
        {
          "output_type": "stream",
          "name": "stdout",
          "text": [
            "[2, 3, -1, 5]\n",
            "[0, -2, -1, 3]\n",
            "[0, 0, -5, 6]\n"
          ]
        }
      ]
    }
  ]
}